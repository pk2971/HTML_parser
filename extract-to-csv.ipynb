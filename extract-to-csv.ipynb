{
 "cells": [
  {
   "cell_type": "code",
   "execution_count": 1,
   "id": "0f5b93b5",
   "metadata": {},
   "outputs": [],
   "source": [
    "import os\n",
    "from bs4 import BeautifulSoup\n",
    "import csv\n",
    "arr = os.listdir()"
   ]
  },
  {
   "cell_type": "code",
   "execution_count": 2,
   "id": "788eee1e",
   "metadata": {},
   "outputs": [],
   "source": [
    "subdirs = [x[0] for x in os.walk('.')]"
   ]
  },
  {
   "cell_type": "code",
   "execution_count": 3,
   "id": "3d485d99",
   "metadata": {},
   "outputs": [],
   "source": [
    "htmlarr=[]\n",
    "dirs=[]"
   ]
  },
  {
   "cell_type": "code",
   "execution_count": 4,
   "id": "aafc8d78",
   "metadata": {},
   "outputs": [
    {
     "data": {
      "text/plain": [
       "'./2001-nov-19'"
      ]
     },
     "execution_count": 4,
     "metadata": {},
     "output_type": "execute_result"
    }
   ],
   "source": [
    "subdirs[1]"
   ]
  },
  {
   "cell_type": "code",
   "execution_count": 5,
   "id": "d0291d93",
   "metadata": {},
   "outputs": [],
   "source": [
    "for i in range(1,len(subdirs)):\n",
    "    temp=os.listdir(str(subdirs[i]))\n",
    "    \n",
    "    htmlarr.append([str(subdirs[i])+'/'+x for x in temp])\n"
   ]
  },
  {
   "cell_type": "code",
   "execution_count": 7,
   "id": "37935a78",
   "metadata": {},
   "outputs": [],
   "source": [
    "final_list = []\n",
    "for sublist in htmlarr:\n",
    "    for item in sublist:\n",
    "        final_list.append(item)"
   ]
  },
  {
   "cell_type": "code",
   "execution_count": 9,
   "id": "cd993168",
   "metadata": {},
   "outputs": [],
   "source": [
    "hansard_info_list=[]"
   ]
  },
  {
   "cell_type": "code",
   "execution_count": 10,
   "id": "f7331109",
   "metadata": {},
   "outputs": [],
   "source": [
    "def get_info(links):\n",
    "    for link in links:\n",
    "        hansard_info={}\n",
    "        with open(link,'r') as f:\n",
    "            contents=f.read()\n",
    "            soup=BeautifulSoup(contents, 'lxml')\n",
    "            parser=BeautifulSoup(contents, \"html.parser\")\n",
    "        \n",
    "            try:\n",
    "                date=soup.find(class_=\"sitting-day\").get_text(\" \", strip = True)\n",
    "            except AttributeError:\n",
    "                date='None'\n",
    "            \n",
    "        \n",
    "            hansard_info['date'] = date\n",
    "        \n",
    "            try:\n",
    "                title=parser.select('h1.title')[0].text.strip()\n",
    "            except:\n",
    "                title=['None']\n",
    "            hansard_info['title'] = title\n",
    "        \n",
    "           \n",
    "            conversation=[p.get_text(strip=True, separator='\\n') for p in soup.find_all(\"p\")]\n",
    "            \n",
    "            hansard_info['conversation'] = conversation\n",
    "            hansard_info['conversation'] = hansard_info['conversation'][:-1]\n",
    "        \n",
    "        hansard_info_list.append(hansard_info)\n",
    "    return hansard_info_list"
   ]
  },
  {
   "cell_type": "code",
   "execution_count": 11,
   "id": "b1d99cdb",
   "metadata": {},
   "outputs": [],
   "source": [
    "def import_to_csv(links):\n",
    "    to_csv= get_info(links)\n",
    "    keys=to_csv[0].keys()\n",
    "    \n",
    "    with open('hansard1.csv', 'w', newline='') as output_file:\n",
    "        dict_writer=csv.DictWriter(output_file, keys)\n",
    "        dict_writer.writeheader()\n",
    "        dict_writer.writerows(to_csv)\n",
    "    "
   ]
  },
  {
   "cell_type": "code",
   "execution_count": 12,
   "id": "9ed64d98",
   "metadata": {},
   "outputs": [],
   "source": [
    "import_to_csv(final_list)"
   ]
  },
  {
   "cell_type": "code",
   "execution_count": null,
   "id": "aa15abbe",
   "metadata": {},
   "outputs": [],
   "source": []
  }
 ],
 "metadata": {
  "kernelspec": {
   "display_name": "Python 3 (ipykernel)",
   "language": "python",
   "name": "python3"
  },
  "language_info": {
   "codemirror_mode": {
    "name": "ipython",
    "version": 3
   },
   "file_extension": ".py",
   "mimetype": "text/x-python",
   "name": "python",
   "nbconvert_exporter": "python",
   "pygments_lexer": "ipython3",
   "version": "3.9.12"
  }
 },
 "nbformat": 4,
 "nbformat_minor": 5
}
